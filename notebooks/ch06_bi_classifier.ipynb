{
  "nbformat": 4,
  "nbformat_minor": 0,
  "metadata": {
    "colab": {
      "name": "ch06_bi_classifier.ipynb",
      "provenance": [],
      "collapsed_sections": [],
      "toc_visible": true
    },
    "kernelspec": {
      "display_name": "Python 3",
      "language": "python",
      "name": "python3"
    },
    "language_info": {
      "codemirror_mode": {
        "name": "ipython",
        "version": 3
      },
      "file_extension": ".py",
      "mimetype": "text/x-python",
      "name": "python",
      "nbconvert_exporter": "python",
      "pygments_lexer": "ipython3",
      "version": "3.8.5"
    }
  },
  "cells": [
    {
      "cell_type": "markdown",
      "metadata": {
        "id": "RMJ-p2-QPsqR"
      },
      "source": [
        "# 6章　2値分類"
      ]
    },
    {
      "cell_type": "code",
      "metadata": {
        "id": "o8f1MNUoPsqa"
      },
      "source": [
        "# 必要ライブラリの導入\n",
        "\n",
        "!pip install japanize_matplotlib | tail -n 1\n",
        "!pip install torchviz | tail -n 1\n",
        "!pip install torchinfo | tail -n 1"
      ],
      "execution_count": null,
      "outputs": []
    },
    {
      "cell_type": "code",
      "metadata": {
        "id": "hkEhF-rHPsqc"
      },
      "source": [
        "# 必要ライブラリのインポート\n",
        "\n",
        "%matplotlib inline\n",
        "import numpy as np\n",
        "import matplotlib.pyplot as plt\n",
        "import japanize_matplotlib\n",
        "from IPython.display import display"
      ],
      "execution_count": null,
      "outputs": []
    },
    {
      "cell_type": "code",
      "metadata": {
        "id": "fa0xuJKVPsqd"
      },
      "source": [
        "# torch関連ライブラリのインポート\n",
        "\n",
        "import torch\n",
        "import torch.nn as nn\n",
        "import torch.optim as optim\n",
        "from torchinfo import summary\n",
        "from torchviz import make_dot"
      ],
      "execution_count": null,
      "outputs": []
    },
    {
      "cell_type": "code",
      "metadata": {
        "id": "OLGjeQzHPsqd"
      },
      "source": [
        "# デフォルトフォントサイズ変更\n",
        "plt.rcParams['font.size'] = 14\n",
        "\n",
        "# デフォルトグラフサイズ変更\n",
        "plt.rcParams['figure.figsize'] = (6,6)\n",
        "\n",
        "# デフォルトで方眼表示ON\n",
        "plt.rcParams['axes.grid'] = True"
      ],
      "execution_count": null,
      "outputs": []
    },
    {
      "cell_type": "markdown",
      "metadata": {
        "id": "PqWB_9tDPsqe"
      },
      "source": [
        "## 6.5 シグモイド関数"
      ]
    },
    {
      "cell_type": "code",
      "metadata": {
        "id": "DcYYjzNJPsqe"
      },
      "source": [
        "# NumPy配列でxデータを定義\n",
        "x_np = np.arange(-4, 4.1, 0.25)\n",
        "\n",
        "# データをTensor形式に変換\n",
        "x = torch.tensor(x_np).float()\n",
        "\n",
        "# yの値を計算\n",
        "y = torch.sigmoid(x)\n",
        "\n",
        "# グラフ描画\n",
        "plt.title('シグモイド関数のグラフ')\n",
        "plt.plot(x.data, y.data)\n",
        "plt.show()"
      ],
      "execution_count": null,
      "outputs": []
    },
    {
      "cell_type": "markdown",
      "metadata": {
        "id": "nDG_cwuNPsqf"
      },
      "source": [
        "## 6.7 データ準備"
      ]
    },
    {
      "cell_type": "code",
      "metadata": {
        "id": "vhcBelEXPsqf"
      },
      "source": [
        "# 学習用データ準備\n",
        "\n",
        "# ライブラリのインポート\n",
        "from sklearn.datasets import load_iris\n",
        "\n",
        "# データ読み込み\n",
        "iris = load_iris()\n",
        "\n",
        "# 入力データと正解データ取得\n",
        "x_org, y_org = iris.data, iris.target\n",
        "\n",
        "# 結果確認\n",
        "print('元データ', x_org.shape, y_org.shape)"
      ],
      "execution_count": null,
      "outputs": []
    },
    {
      "cell_type": "code",
      "metadata": {
        "id": "Uo1YPkPEPsqf"
      },
      "source": [
        "# データ絞り込み\n",
        "#   クラス0, 1のみ\n",
        "#   項目sepal_lengthとsepal_widthのみ\n",
        "\n",
        "x_data = iris.data[:100,:2]\n",
        "y_data = iris.target[:100]\n",
        "\n",
        "# 結果確認\n",
        "print('対象データ', x_data.shape, y_data.shape)"
      ],
      "execution_count": null,
      "outputs": []
    },
    {
      "cell_type": "markdown",
      "metadata": {
        "id": "_uRG9oXGPsqg"
      },
      "source": [
        "### 訓練データ・検証データの分割"
      ]
    },
    {
      "cell_type": "code",
      "metadata": {
        "id": "YUS4x_tmPsqg"
      },
      "source": [
        "# 　元データのサイズ\n",
        "print(x_data.shape, y_data.shape)\n",
        "\n",
        "# 訓練データ、検証データに分割 (シャフルも同時に実施)\n",
        "from sklearn.model_selection import train_test_split\n",
        "x_train, x_test, y_train, y_test = train_test_split(\n",
        "    x_data, y_data, train_size=70, test_size=30, \n",
        "    random_state=123)\n",
        "print(x_train.shape, x_test.shape, y_train.shape, y_test.shape)"
      ],
      "execution_count": null,
      "outputs": []
    },
    {
      "cell_type": "markdown",
      "metadata": {
        "id": "sRiAjjbePsqh"
      },
      "source": [
        "### 訓練データの散布図表示"
      ]
    },
    {
      "cell_type": "code",
      "metadata": {
        "id": "zu-SEFS2Psqh"
      },
      "source": [
        "# 散布図の表示\n",
        "\n",
        "x_t0 = x_train[y_train == 0]\n",
        "x_t1 = x_train[y_train == 1]\n",
        "plt.scatter(x_t0[:,0], x_t0[:,1], marker='x', c='b', label='0 (setosa)')\n",
        "plt.scatter(x_t1[:,0], x_t1[:,1], marker='o', c='k', label='1 (versicolor)')\n",
        "plt.xlabel('sepal_length')\n",
        "plt.ylabel('sepal_width')\n",
        "plt.legend()\n",
        "plt.show()"
      ],
      "execution_count": null,
      "outputs": []
    },
    {
      "cell_type": "markdown",
      "metadata": {
        "id": "CZ3NxWrlPsqh"
      },
      "source": [
        "## 6.8 モデル定義"
      ]
    },
    {
      "cell_type": "code",
      "metadata": {
        "id": "8Je8itWpPsqh"
      },
      "source": [
        "# 入力次元数　(今の場合2)\n",
        "n_input= x_train.shape[1]\n",
        "\n",
        "# 出力次元数\n",
        "n_output = 1\n",
        "\n",
        "# 結果確認\n",
        "print(f'n_input: {n_input}  n_output:{n_output}')"
      ],
      "execution_count": null,
      "outputs": []
    },
    {
      "cell_type": "code",
      "metadata": {
        "id": "DdDi6zsnPsqi"
      },
      "source": [
        "# モデルの定義\n",
        "# 2入力1出力のロジスティック回帰モデル\n",
        "\n",
        "class Net(nn.Module):\n",
        "    def __init__(self, n_input, n_output):\n",
        "        super().__init__()\n",
        "        self.l1 = nn.Linear(n_input, n_output)\n",
        "        self.sigmoid = nn.Sigmoid()\n",
        "                \n",
        "        # 初期値を全部1にする\n",
        "        # 「ディープラーニングの数学」と条件を合わせる目的        \n",
        "        self.l1.weight.data.fill_(1.0)\n",
        "        self.l1.bias.data.fill_(1.0)        \n",
        "        \n",
        "    # 予測関数の定義\n",
        "    def forward(self, x):\n",
        "        # 最初に入力値を線形関数にかけたを計算する\n",
        "        x1 = self.l1(x)\n",
        "        # 計算結果にシグモイド関数をかける\n",
        "        x2 = self.sigmoid(x1)\n",
        "        return x2"
      ],
      "execution_count": null,
      "outputs": []
    },
    {
      "cell_type": "code",
      "metadata": {
        "id": "SgP8JkLBPsqi"
      },
      "source": [
        "# インスタンスの生成\n",
        "\n",
        "net = Net(n_input, n_output)"
      ],
      "execution_count": null,
      "outputs": []
    },
    {
      "cell_type": "markdown",
      "metadata": {
        "id": "QcmbWo3xPsqj"
      },
      "source": [
        "### モデル確認"
      ]
    },
    {
      "cell_type": "code",
      "metadata": {
        "id": "aWzmDIs_Psqj"
      },
      "source": [
        "# モデル内のパラメータの確認\n",
        "# l1.weightとl1.biasがあることがわかる\n",
        "\n",
        "for parameter in net.named_parameters():\n",
        "    print(parameter)"
      ],
      "execution_count": null,
      "outputs": []
    },
    {
      "cell_type": "code",
      "metadata": {
        "id": "99WSyEiQPsqj"
      },
      "source": [
        "# モデルの概要表示\n",
        "\n",
        "print(net)"
      ],
      "execution_count": null,
      "outputs": []
    },
    {
      "cell_type": "code",
      "metadata": {
        "id": "SJ34VvxLPsqk"
      },
      "source": [
        "# モデルのサマリー表示\n",
        "\n",
        "summary(net, (2,))"
      ],
      "execution_count": null,
      "outputs": []
    },
    {
      "cell_type": "markdown",
      "metadata": {
        "id": "2KHOYmE6Psqk"
      },
      "source": [
        "### 最適化アルゴリズムと損失関数"
      ]
    },
    {
      "cell_type": "code",
      "metadata": {
        "id": "Zfv1SnjRPsqk"
      },
      "source": [
        "# 損失関数： 交差エントロピー関数\n",
        "criterion = nn.BCELoss()\n",
        "\n",
        "# 学習率\n",
        "lr = 0.01\n",
        "\n",
        "# 最適化関数: 勾配降下法\n",
        "optimizer = optim.SGD(net.parameters(), lr=lr)"
      ],
      "execution_count": null,
      "outputs": []
    },
    {
      "cell_type": "markdown",
      "metadata": {
        "id": "OIEA8RBFPsqk"
      },
      "source": [
        "## 6.9 勾配降下法"
      ]
    },
    {
      "cell_type": "code",
      "metadata": {
        "id": "bPBqrftvPsql"
      },
      "source": [
        "# 入力データ x_train と正解データ y_train のテンソル化\n",
        "\n",
        "inputs = torch.tensor(x_train).float()\n",
        "labels = torch.tensor(y_train).float()\n",
        "\n",
        "# 正解データはN行1列の行列に変換する\n",
        "labels1 = labels.view((-1,1))\n",
        "\n",
        "# 検証データのテンソル化\n",
        "inputs_test = torch.tensor(x_test).float()\n",
        "labels_test = torch.tensor(y_test).float()\n",
        "\n",
        "# 検証用の正解データもN行1列の行列に変換する\n",
        "labels1_test = labels_test.view((-1,1))"
      ],
      "execution_count": null,
      "outputs": []
    },
    {
      "cell_type": "code",
      "metadata": {
        "id": "e3TvdQuOPsql"
      },
      "source": [
        "# 予測計算\n",
        "outputs = net(inputs)\n",
        "\n",
        "# 損失計算\n",
        "loss = criterion(outputs, labels1)\n",
        "\n",
        "# 損失の計算グラフ可視化\n",
        "g = make_dot(loss, params=dict(net.named_parameters()))\n",
        "display(g)"
      ],
      "execution_count": null,
      "outputs": []
    },
    {
      "cell_type": "markdown",
      "metadata": {
        "id": "_ciIvpF8Psql"
      },
      "source": [
        "### 繰り返し計算"
      ]
    },
    {
      "cell_type": "code",
      "metadata": {
        "id": "syR4VfrZPsql"
      },
      "source": [
        "# 学習率\n",
        "lr = 0.01\n",
        "\n",
        "# 初期化\n",
        "net = Net(n_input, n_output)\n",
        "\n",
        "# 損失関数： 交差エントロピー関数\n",
        "criterion = nn.BCELoss()\n",
        "\n",
        "# 最適化関数: 勾配降下法\n",
        "optimizer = optim.SGD(net.parameters(), lr=lr)\n",
        "\n",
        "# 繰り返し回数\n",
        "num_epochs = 10000\n",
        "\n",
        "# 記録用リストの初期化\n",
        "history = np.zeros((0,5))"
      ],
      "execution_count": null,
      "outputs": []
    },
    {
      "cell_type": "code",
      "metadata": {
        "id": "50gln2ooPsqm",
        "scrolled": true
      },
      "source": [
        "# 繰り返し計算メインループ\n",
        "\n",
        "for epoch in range(num_epochs):\n",
        "    # 訓練フェーズ\n",
        "    \n",
        "    #勾配値初期化\n",
        "    optimizer.zero_grad()\n",
        "\n",
        "    # 予測計算\n",
        "    outputs = net(inputs)\n",
        "\n",
        "    # 損失計算\n",
        "    loss = criterion(outputs, labels1)\n",
        "\n",
        "    # 勾配計算\n",
        "    loss.backward()\n",
        "    \n",
        "    # パラメータ修正\n",
        "    optimizer.step()\n",
        "\n",
        "    # 損失の保存(スカラー値の取得)\n",
        "    train_loss = loss.item()\n",
        "\n",
        "    # 予測ラベル(1 or 0)計算\n",
        "    predicted = torch.where(outputs < 0.5, 0, 1)\n",
        "    \n",
        "    # 精度計算\n",
        "    train_acc = (predicted == labels1).sum() / len(y_train)\n",
        "\n",
        "    # 予測フェーズ\n",
        "\n",
        "    # 予測計算\n",
        "    outputs_test = net(inputs_test)\n",
        "\n",
        "    # 損失計算\n",
        "    loss_test = criterion(outputs_test, labels1_test)\n",
        "\n",
        "    # 損失の保存（スカラー値の取得）\n",
        "    val_loss =  loss_test.item()\n",
        "        \n",
        "    # 予測ラベル(1 or 0)計算\n",
        "    predicted_test = torch.where(outputs_test < 0.5, 0, 1)\n",
        "\n",
        "    # 精度計算\n",
        "    val_acc = (predicted_test == labels1_test).sum() / len(y_test)\n",
        "    \n",
        "    if ( epoch % 10 == 0):\n",
        "        print (f'Epoch [{epoch}/{num_epochs}], loss: {train_loss:.5f} acc: {train_acc:.5f} val_loss: {val_loss:.5f}, val_acc: {val_acc:.5f}')\n",
        "        item = np.array([epoch, train_loss, train_acc, val_loss, val_acc])\n",
        "        history = np.vstack((history, item))"
      ],
      "execution_count": null,
      "outputs": []
    },
    {
      "cell_type": "markdown",
      "metadata": {
        "id": "BTk6dHwfPsqm"
      },
      "source": [
        "## 6.10 結果確認"
      ]
    },
    {
      "cell_type": "code",
      "metadata": {
        "id": "6YBWkJXvPsqm"
      },
      "source": [
        "#損失と精度の確認\n",
        "\n",
        "print(f'初期状態: 損失: {history[0,3]:.5f} 精度: {history[0,4]:.5f}' )\n",
        "print(f'最終状態: 損失: {history[-1,3]:.5f} 精度: {history[-1,4]:.5f}' )"
      ],
      "execution_count": null,
      "outputs": []
    },
    {
      "cell_type": "code",
      "metadata": {
        "id": "E_FBeQjBPsqn"
      },
      "source": [
        "# 学習曲線の表示 (損失)\n",
        "\n",
        "plt.plot(history[:,0], history[:,1], 'b', label='訓練')\n",
        "plt.plot(history[:,0], history[:,3], 'k', label='検証')\n",
        "plt.xlabel('繰り返し回数')\n",
        "plt.ylabel('損失')\n",
        "plt.title('学習曲線(損失)')\n",
        "plt.legend()\n",
        "plt.show()"
      ],
      "execution_count": null,
      "outputs": []
    },
    {
      "cell_type": "code",
      "metadata": {
        "id": "PsEjWTI2Psqn"
      },
      "source": [
        "# 学習曲線の表示 (精度)\n",
        "\n",
        "plt.plot(history[:,0], history[:,2], 'b', label='訓練')\n",
        "plt.plot(history[:,0], history[:,4], 'k', label='検証')\n",
        "plt.xlabel('繰り返し回数')\n",
        "plt.ylabel('精度')\n",
        "plt.title('学習曲線(精度)')\n",
        "plt.legend()\n",
        "plt.show()"
      ],
      "execution_count": null,
      "outputs": []
    },
    {
      "cell_type": "markdown",
      "metadata": {
        "id": "QtiZzCnKPsqn"
      },
      "source": [
        "### 決定境界のグラフ表示"
      ]
    },
    {
      "cell_type": "code",
      "metadata": {
        "id": "ZEV3sKftPsqo"
      },
      "source": [
        "# 検証データを散布図用に準備\n",
        "\n",
        "x_t0 = x_test[y_test==0]\n",
        "x_t1 = x_test[y_test==1]"
      ],
      "execution_count": null,
      "outputs": []
    },
    {
      "cell_type": "code",
      "metadata": {
        "id": "3knK_C7kPsqo"
      },
      "source": [
        "# パラメータの取得\n",
        "\n",
        "bias = net.l1.bias.data.numpy()\n",
        "weight = net.l1.weight.data.numpy()\n",
        "print(f'BIAS = {bias}, WEIGHT = {weight}')\n",
        "\n",
        "# 決定境界描画用 x1の値から x2の値を計算する\n",
        "def decision(x):\n",
        "    return(-(bias + weight[0,0] * x)/ weight[0,1])\n",
        "\n",
        "# 散布図のx1の最小値と最大値\n",
        "xl = np.array([x_test[:,0].min(), x_test[:,0].max()])\n",
        "yl = decision(xl)\n",
        "\n",
        "# 結果確認\n",
        "print(f'xl = {xl}  yl = {yl}')"
      ],
      "execution_count": null,
      "outputs": []
    },
    {
      "cell_type": "code",
      "metadata": {
        "id": "wV_ncIo0Psqo"
      },
      "source": [
        "# 散布図表示\n",
        "plt.scatter(x_t0[:,0], x_t0[:,1], marker='x', \n",
        "        c='b', s=50, label='class 0')\n",
        "plt.scatter(x_t1[:,0], x_t1[:,1], marker='o', \n",
        "        c='k', s=50, label='class 1')\n",
        "\n",
        "# 決定境界直線\n",
        "plt.plot(xl, yl, c='b')\n",
        "plt.xlabel('sepal_length')\n",
        "plt.ylabel('sepal_width')\n",
        "plt.legend()\n",
        "plt.show()"
      ],
      "execution_count": null,
      "outputs": []
    },
    {
      "cell_type": "markdown",
      "metadata": {
        "id": "h0jF0iMzPsqo"
      },
      "source": [
        "## コラム　BCELoss関数とBCEWithLogitsLoss関数の違い"
      ]
    },
    {
      "cell_type": "code",
      "metadata": {
        "id": "0yNjht06Psqp"
      },
      "source": [
        "# モデルの定義\n",
        "# 2入力1出力のロジスティック回帰モデル\n",
        "\n",
        "class Net(nn.Module):\n",
        "    def __init__(self, n_input, n_output):\n",
        "        super().__init__()\n",
        "        self.l1 = nn.Linear(n_input, n_output)\n",
        "                \n",
        "        # 初期値を全部1にする\n",
        "        # 「ディープラーニングの数学」と条件を合わせる目的        \n",
        "        self.l1.weight.data.fill_(1.0)\n",
        "        self.l1.bias.data.fill_(1.0)        \n",
        "        \n",
        "    # 予測関数の定義\n",
        "    def forward(self, x):\n",
        "        # 入力値と行列の積を計算する\n",
        "        x1 = self.l1(x)\n",
        "        return x1"
      ],
      "execution_count": null,
      "outputs": []
    },
    {
      "cell_type": "code",
      "metadata": {
        "id": "A3dil0VDPsqp"
      },
      "source": [
        "# 学習率\n",
        "lr = 0.01\n",
        "\n",
        "# 初期化\n",
        "net = Net(n_input, n_output)\n",
        "\n",
        "# 損失関数： logits付き交差エントロピー関数\n",
        "criterion = nn.BCEWithLogitsLoss()\n",
        "\n",
        "# 最適化関数: 勾配降下法\n",
        "optimizer = optim.SGD(net.parameters(), lr=lr)\n",
        "\n",
        "# 繰り返し回数\n",
        "num_epochs = 10000\n",
        "\n",
        "# 記録用リストの初期化\n",
        "history = np.zeros((0,5))"
      ],
      "execution_count": null,
      "outputs": []
    },
    {
      "cell_type": "code",
      "metadata": {
        "id": "abFfu6brPsqp"
      },
      "source": [
        "# 繰り返し計算メインループ\n",
        "\n",
        "for epoch in range(num_epochs):\n",
        "    # 訓練フェーズ\n",
        "    \n",
        "    #勾配値初期化\n",
        "    optimizer.zero_grad()\n",
        "\n",
        "    # 予測計算\n",
        "    outputs = net(inputs)\n",
        "\n",
        "    # 損失計算\n",
        "    loss = criterion(outputs, labels1)\n",
        "\n",
        "    # 勾配計算\n",
        "    loss.backward()\n",
        "    \n",
        "    # パラメータ修正\n",
        "    optimizer.step()\n",
        "\n",
        "    # 損失のスカラー化\n",
        "    train_loss = loss.item()\n",
        "\n",
        "    # 予測ラベル(1 or 0)計算\n",
        "    predicted = torch.where(outputs < 0.0, 0, 1)\n",
        "    \n",
        "    # 精度計算\n",
        "    train_acc = (predicted == labels1).sum() / len(y_train)\n",
        "\n",
        "    # 予測フェーズ\n",
        "    \n",
        "    # 予測計算\n",
        "    outputs_test = net(inputs_test)\n",
        "\n",
        "    # 損失計算\n",
        "    loss_test = criterion(outputs_test, labels1_test)\n",
        "\n",
        "    # 損失のスカラー化\n",
        "    val_loss =  loss_test.item()\n",
        "        \n",
        "    #予測ラベル(1 or 0)計算\n",
        "    predicted_test = torch.where(outputs_test < 0.0, 0, 1)\n",
        "\n",
        "    # 精度計算\n",
        "    val_acc = (predicted_test == labels1_test).sum() / len(y_test)\n",
        "    \n",
        "    if ( epoch % 10 == 0):\n",
        "        print (f'Epoch [{epoch}/{num_epochs}], loss: {train_loss:.5f} acc: {train_acc:.5f} val_loss: {val_loss:.5f}, val_acc: {val_acc:.5f}')\n",
        "        item = np.array([epoch, train_loss, train_acc, val_loss, val_acc])\n",
        "        history = np.vstack((history, item))"
      ],
      "execution_count": null,
      "outputs": []
    },
    {
      "cell_type": "code",
      "metadata": {
        "id": "-k1KOgubPsqq"
      },
      "source": [
        "#損失と精度の確認\n",
        "\n",
        "print(f'初期状態: 損失: {history[0,3]:.5f} 精度: {history[0,4]:.5f}' )\n",
        "print(f'最終状態: 損失: {history[-1,3]:.5f} 精度: {history[-1,4]:.5f}' )"
      ],
      "execution_count": null,
      "outputs": []
    },
    {
      "cell_type": "code",
      "metadata": {
        "id": "JNkolGE1Psqr"
      },
      "source": [
        "# 学習曲線の表示 (損失)\n",
        "\n",
        "plt.plot(history[:,0], history[:,1], 'b', label='訓練')\n",
        "plt.plot(history[:,0], history[:,3], 'k', label='検証')\n",
        "plt.xlabel('繰り返し回数')\n",
        "plt.ylabel('損失')\n",
        "plt.title('学習曲線(損失)')\n",
        "plt.legend()\n",
        "plt.show()"
      ],
      "execution_count": null,
      "outputs": []
    },
    {
      "cell_type": "code",
      "metadata": {
        "id": "L6JFhi1DPsqr"
      },
      "source": [
        "# 学習曲線の表示 (精度)\n",
        "\n",
        "plt.plot(history[:,0], history[:,2], 'b', label='訓練')\n",
        "plt.plot(history[:,0], history[:,4], 'k', label='検証')\n",
        "plt.xlabel('繰り返し回数')\n",
        "plt.ylabel('精度')\n",
        "plt.title('学習曲線(精度)')\n",
        "plt.legend()\n",
        "plt.show()"
      ],
      "execution_count": null,
      "outputs": []
    },
    {
      "cell_type": "code",
      "metadata": {
        "id": "FQC_gdBRPsqr"
      },
      "source": [
        "# パラメータの取得\n",
        "\n",
        "bias = net.l1.bias.data.numpy()\n",
        "weight = net.l1.weight.data.numpy()\n",
        "print(f'BIAS = {bias}, WEIGHT = {weight}')\n",
        "\n",
        "# 決定境界描画用 x1の値から x2の値を計算する\n",
        "def decision(x):\n",
        "    return(-(bias + weight[0,0] * x)/ weight[0,1])\n",
        "\n",
        "# 散布図のx1の最小値と最大値\n",
        "xl = np.array([x_test[:,0].min(), x_test[:,0].max()])\n",
        "yl = decision(xl)\n",
        "\n",
        "# 結果確認\n",
        "print(f'xl = {xl}  yl = {yl}')"
      ],
      "execution_count": null,
      "outputs": []
    },
    {
      "cell_type": "code",
      "metadata": {
        "id": "XfKQ7-mQPsqs"
      },
      "source": [
        "# 散布図表示\n",
        "plt.scatter(x_t0[:,0], x_t0[:,1], marker='x', \n",
        "        c='b', s=50, label='class 0')\n",
        "plt.scatter(x_t1[:,0], x_t1[:,1], marker='o', \n",
        "        c='k', s=50, label='class 1')\n",
        "\n",
        "# 決定境界直線\n",
        "plt.plot(xl, yl, c='b')\n",
        "plt.xlabel('sepal_length')\n",
        "plt.ylabel('sepal_width')\n",
        "plt.legend()\n",
        "plt.show()"
      ],
      "execution_count": null,
      "outputs": []
    },
    {
      "cell_type": "code",
      "metadata": {
        "id": "psmSY4pc9pxw"
      },
      "source": [
        ""
      ],
      "execution_count": null,
      "outputs": []
    }
  ]
}
