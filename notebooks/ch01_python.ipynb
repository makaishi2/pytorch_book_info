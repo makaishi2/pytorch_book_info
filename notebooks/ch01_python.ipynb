{
  "nbformat": 4,
  "nbformat_minor": 0,
  "metadata": {
    "kernelspec": {
      "display_name": "Python 3",
      "language": "python",
      "name": "python3"
    },
    "language_info": {
      "codemirror_mode": {
        "name": "ipython",
        "version": 3
      },
      "file_extension": ".py",
      "mimetype": "text/x-python",
      "name": "python",
      "nbconvert_exporter": "python",
      "pygments_lexer": "ipython3",
      "version": "3.8.5"
    },
    "colab": {
      "name": "ch01_python.ipynb",
      "provenance": [],
      "collapsed_sections": [],
      "toc_visible": true
    }
  },
  "cells": [
    {
      "cell_type": "markdown",
      "metadata": {
        "id": "yoLOS2ohPSo-"
      },
      "source": [
        "# 1章 Python入門\n",
        "PyTorchを使ったディープラーニング・プログラミングで重要になる概念だけを抜き出して説明する"
      ]
    },
    {
      "cell_type": "code",
      "metadata": {
        "id": "eg2s3K8OPSpD"
      },
      "source": [
        "# 必要ライブラリの導入\n",
        "\n",
        "!pip install japanize_matplotlib | tail -n 1"
      ],
      "execution_count": null,
      "outputs": []
    },
    {
      "cell_type": "code",
      "metadata": {
        "id": "zR8TJdQQPSpD"
      },
      "source": [
        "# 必要ライブラリのインポート\n",
        "\n",
        "%matplotlib inline\n",
        "import numpy as np\n",
        "import matplotlib.pyplot as plt\n",
        "import japanize_matplotlib"
      ],
      "execution_count": null,
      "outputs": []
    },
    {
      "cell_type": "code",
      "metadata": {
        "id": "ysxb8LzbPSpD"
      },
      "source": [
        "# warning表示off\n",
        "import warnings\n",
        "warnings.simplefilter('ignore')\n",
        "\n",
        "# デフォルトフォントサイズ変更\n",
        "plt.rcParams['font.size'] = 14\n",
        "\n",
        "# デフォルトグラフサイズ変更\n",
        "plt.rcParams['figure.figsize'] = (6,6)\n",
        "\n",
        "# デフォルトで方眼表示ON\n",
        "plt.rcParams['axes.grid'] = True\n",
        "\n",
        "# numpyの表示桁数設定\n",
        "np.set_printoptions(suppress=True, precision=5)"
      ],
      "execution_count": null,
      "outputs": []
    },
    {
      "cell_type": "markdown",
      "metadata": {
        "id": "zvXRG-ruPSpE"
      },
      "source": [
        "## 1.2 コンテナ変数にご用心\n",
        "Pythonでは、変数は単に実際のデータ構造へのポインタに過ぎない。  \n",
        "Numpy配列などでは、このことを意識しないと思わぬ結果を招く場合がある。"
      ]
    },
    {
      "cell_type": "markdown",
      "metadata": {
        "id": "UvPbw0jYPSpE"
      },
      "source": [
        "### NumPy変数間"
      ]
    },
    {
      "cell_type": "code",
      "metadata": {
        "id": "mE8yGhNqPSpE"
      },
      "source": [
        "# Numpy配列 x1 を定義\n",
        "x = np.array([5, 7, 9])\n",
        "\n",
        "# 変数yにxを代入する\n",
        "# このとき、実体は共通なまま\n",
        "y = x\n",
        "\n",
        "# 結果確認\n",
        "print(x)\n",
        "print(y)"
      ],
      "execution_count": null,
      "outputs": []
    },
    {
      "cell_type": "code",
      "metadata": {
        "id": "hdmNhQOZPSpE"
      },
      "source": [
        "# ここでxの特定の要素の値を変更する\n",
        "x[1] = -1\n",
        "\n",
        "# すると、yも連動して値が変わる\n",
        "print(x)\n",
        "print(y)"
      ],
      "execution_count": null,
      "outputs": []
    },
    {
      "cell_type": "code",
      "metadata": {
        "id": "l9H3CjJtPSpE"
      },
      "source": [
        "# yも同時に変化して困る場合は、代入時にcopy関数を利用する\n",
        "x = np.array([5, 7, 9])\n",
        "y = x.copy()\n",
        "\n",
        "# すると、xの特定の要素値の変更がyに影響しなくなる\n",
        "x[1] = -1\n",
        "print(x)\n",
        "print(y)"
      ],
      "execution_count": null,
      "outputs": []
    },
    {
      "cell_type": "markdown",
      "metadata": {
        "id": "6Xm1XIpBPSpE"
      },
      "source": [
        "### テンソルとNumPy間"
      ]
    },
    {
      "cell_type": "code",
      "metadata": {
        "id": "FPkiYCioPSpF"
      },
      "source": [
        "import torch\n",
        "\n",
        "# x1: shape=[5] となるすべて値が1テンソル\n",
        "x1 = torch.ones(5)\n",
        "\n",
        "# 結果確認\n",
        "print(x1)\n",
        "\n",
        "# x2 x1から生成したNumPy\n",
        "x2 = x1.data.numpy()\n",
        "\n",
        "# 結果確認\n",
        "print(x2)"
      ],
      "execution_count": null,
      "outputs": []
    },
    {
      "cell_type": "code",
      "metadata": {
        "id": "E-SoSD6qPSpF"
      },
      "source": [
        "# x1の値を変更\n",
        "x1[1] = -1\n",
        "\n",
        "# 連動してx2の値も変わる\n",
        "print(x1)\n",
        "print(x2)"
      ],
      "execution_count": null,
      "outputs": []
    },
    {
      "cell_type": "code",
      "metadata": {
        "id": "fLRAG-SLPSpF"
      },
      "source": [
        "# 安全な方法\n",
        "\n",
        "# x1 テンソル\n",
        "x1 = torch.ones(5)\n",
        "\n",
        "# x2 x1から生成したNumPy\n",
        "x2 = x1.data.numpy().copy()\n",
        "\n",
        "x1[1] = -1\n",
        "\n",
        "# 結果確認\n",
        "print(x1)\n",
        "print(x2)"
      ],
      "execution_count": null,
      "outputs": []
    },
    {
      "cell_type": "markdown",
      "metadata": {
        "id": "jAwsog3qPSpF"
      },
      "source": [
        "## 1.3 数学上の合成関数とPythonの合成関数\n",
        "数学上の合成関数がPythonでどう実装されるか確認する"
      ]
    },
    {
      "cell_type": "markdown",
      "metadata": {
        "id": "LYchZiipPSpF"
      },
      "source": [
        "$f(x) = 2x^2 + 2$を関数として定義する"
      ]
    },
    {
      "cell_type": "code",
      "metadata": {
        "id": "3CqF27_GPSpF"
      },
      "source": [
        "def f(x):\n",
        "    return (2 * x**2 + 2)"
      ],
      "execution_count": null,
      "outputs": []
    },
    {
      "cell_type": "code",
      "metadata": {
        "id": "OiJN2YuVPSpF"
      },
      "source": [
        "# xをnumpy配列で定義\n",
        "x = np.arange(-2, 2.1, 0.25)\n",
        "print(x)"
      ],
      "execution_count": null,
      "outputs": []
    },
    {
      "cell_type": "code",
      "metadata": {
        "id": "WXTDLngzPSpG"
      },
      "source": [
        "# f(x)の結果をyに代入\n",
        "y = f(x)\n",
        "print(y)"
      ],
      "execution_count": null,
      "outputs": []
    },
    {
      "cell_type": "code",
      "metadata": {
        "id": "XzsseR8QPSpG"
      },
      "source": [
        "# 関数のグラフ表示\n",
        "\n",
        "plt.plot(x, y)\n",
        "plt.show()"
      ],
      "execution_count": null,
      "outputs": []
    },
    {
      "cell_type": "code",
      "metadata": {
        "id": "hwdDvlSKUa8W"
      },
      "source": [
        "# 3つの基本関数の定義\n",
        "def f1(x):\n",
        "    return(x**2)\n",
        "\n",
        "def f2(x):\n",
        "    return(x*2)\n",
        "\n",
        "def f3(x):\n",
        "    return(x+2)\n",
        "\n",
        "# 合成関数を作る\n",
        "x1 = f1(x)\n",
        "x2 = f2(x1)\n",
        "y = f3(x2)"
      ],
      "execution_count": null,
      "outputs": []
    },
    {
      "cell_type": "code",
      "metadata": {
        "id": "fNUqcDqVUbGW"
      },
      "source": [
        "# 合成関数の値の確認\n",
        "print(y)"
      ],
      "execution_count": null,
      "outputs": []
    },
    {
      "cell_type": "code",
      "metadata": {
        "id": "hqVCcelaUbKq"
      },
      "source": [
        "# 合成関数のグラフ表示\n",
        "\n",
        "plt.plot(x, y)\n",
        "plt.show()"
      ],
      "execution_count": null,
      "outputs": []
    },
    {
      "cell_type": "markdown",
      "metadata": {
        "id": "NLsU5j_CTqRd"
      },
      "source": [
        "## 1.4 数学上の微分とPythonでの数値微分実装\n",
        "Pythonでは、関数もまた、変数名は単なるポインタで、実体は別にある。  \n",
        "このことを利用すると、「関数を引数とする関数」を作ることが可能になる。"
      ]
    },
    {
      "cell_type": "markdown",
      "metadata": {
        "id": "PEy0MMhvPSpG"
      },
      "source": [
        "ここで関数を数値微分する関数``diff``を定義する。  \n",
        "数値微分の計算には、普通の微分の定義式よりいい近似式である $f'(x) = \\dfrac{f(x+h)-f(x-h)}{2h}$を利用する。"
      ]
    },
    {
      "cell_type": "code",
      "metadata": {
        "id": "DUk6vPjvlWgc"
      },
      "source": [
        "# 関数を微分する関数fdiffの定義\n",
        "def fdiff(f):\n",
        "    # 関数fを引数に微分した結果の関数をdiffとして定義\n",
        "    def diff(x):\n",
        "        h = 1e-6\n",
        "        return (f(x+h) - f(x-h)) / (2*h)\n",
        "\n",
        "    # fdiffの戻りは微分した結果の関数diff\n",
        "    return diff"
      ],
      "execution_count": null,
      "outputs": []
    },
    {
      "cell_type": "markdown",
      "metadata": {
        "id": "AwinTXaKrEpU"
      },
      "source": [
        "2次関数fに対して、今作った関数fdiffを適用して、数値微分計算をしてみる。"
      ]
    },
    {
      "cell_type": "code",
      "metadata": {
        "id": "CFUT1Mmslf4n"
      },
      "source": [
        "# 2次関数の数値微分\n",
        "\n",
        "# fの微分結果の関数diffを取得\n",
        "diff = fdiff(f)\n",
        "\n",
        "# 微分結果を計算しy_dashに代入\n",
        "y_dash = diff(x)\n",
        "\n",
        "# 結果確認\n",
        "print(y_dash)"
      ],
      "execution_count": null,
      "outputs": []
    },
    {
      "cell_type": "code",
      "metadata": {
        "id": "vQsqq3xlPSpG"
      },
      "source": [
        "# 結果のグラフ表示\n",
        "plt.plot(x, y, label=r'y = f(x)', c='b')\n",
        "plt.plot(x, y_dash, label=r\"y = f '(x)\", c='k')\n",
        "plt.legend()\n",
        "plt.show()"
      ],
      "execution_count": null,
      "outputs": []
    },
    {
      "cell_type": "markdown",
      "metadata": {
        "id": "L22xQBOAPSpH"
      },
      "source": [
        "シグモイド関数 $g(x) = \\dfrac{1}{1 + \\exp(-x)}$に対して同じことをやってみる。"
      ]
    },
    {
      "cell_type": "code",
      "metadata": {
        "id": "KU6ZSfbEPSpH"
      },
      "source": [
        "# シグモイド関数の定義\n",
        "def g(x):\n",
        "    return 1 / (1 + np.exp(-x))"
      ],
      "execution_count": null,
      "outputs": []
    },
    {
      "cell_type": "code",
      "metadata": {
        "id": "P4_TAZkiPSpH"
      },
      "source": [
        "# シグモイド関数の計算\n",
        "y = g(x)\n",
        "print(y)"
      ],
      "execution_count": null,
      "outputs": []
    },
    {
      "cell_type": "code",
      "metadata": {
        "id": "KxnzGh76PSpH"
      },
      "source": [
        "# 関数のグラフ表示\n",
        "\n",
        "plt.plot(x, y)\n",
        "plt.show()"
      ],
      "execution_count": null,
      "outputs": []
    },
    {
      "cell_type": "code",
      "metadata": {
        "id": "TDlA_t5cPSpH"
      },
      "source": [
        "# シグモイド関数の数値微分\n",
        "\n",
        "# gを微分した関数を取得\n",
        "diff = fdiff(g)\n",
        "\n",
        "# diffを用いて微分結果y_dashを計算\n",
        "y_dash = diff(x)\n",
        "\n",
        "# 結果確認\n",
        "print(y_dash)"
      ],
      "execution_count": null,
      "outputs": []
    },
    {
      "cell_type": "code",
      "metadata": {
        "id": "Iu_cT2v_PSpH"
      },
      "source": [
        "# 結果のグラフ表示\n",
        "plt.plot(x, y, label=r'y = f(x)', c='b')\n",
        "plt.plot(x, y_dash, label=r\"y = f '(x)\", c='k')\n",
        "plt.legend()\n",
        "plt.show()"
      ],
      "execution_count": null,
      "outputs": []
    },
    {
      "cell_type": "markdown",
      "metadata": {
        "id": "U6uqQ6L4PSpH"
      },
      "source": [
        "シグモイド関数の微分結果は$y(1-y)$となることがわかっている。  \n",
        "これはyの二次関数で、$y=\\dfrac{1}{2}$の時に最大値$\\dfrac{1}{4}$を取る。  \n",
        "上のグラフはその結果と一致していて、数値微分が正しくできていることがわかる。"
      ]
    },
    {
      "cell_type": "markdown",
      "metadata": {
        "id": "Jp1YdzDvPSpH"
      },
      "source": [
        "## 1.5 オブジェクト指向プログラミング入門"
      ]
    },
    {
      "cell_type": "code",
      "metadata": {
        "id": "Ab0LDmO6PSpH"
      },
      "source": [
        "# グラフ描画用ライブラリ\n",
        "import matplotlib.pyplot as plt\n",
        "\n",
        "# 円描画に必要なライブラリ\n",
        "import matplotlib.patches as patches"
      ],
      "execution_count": null,
      "outputs": []
    },
    {
      "cell_type": "code",
      "metadata": {
        "id": "ipJlePaSPSpI"
      },
      "source": [
        "# クラス Point の定義\n",
        "\n",
        "class Point:\n",
        "    # インスタンス生成時にxとyの２つの引数を持つ\n",
        "    def __init__(self, x, y):\n",
        "        # インスタンスの属性xに第一引数をセットする\n",
        "        self.x = x\n",
        "        # インスタンスの属性yに第二引数をセットする\n",
        "        self.y = y\n",
        "    # 描画関数 drawの定義 (引数はなし)\n",
        "    def draw(self):\n",
        "        # (x, y)に点を描画する\n",
        "        plt.plot(self.x, self.y, marker='o', markersize=10, c='k')"
      ],
      "execution_count": null,
      "outputs": []
    },
    {
      "cell_type": "code",
      "metadata": {
        "id": "DAtC1ASWPSpI"
      },
      "source": [
        "# クラスPointからインスタンス変数p1とp2を生成する\n",
        "p1 = Point(2,3)\n",
        "p2 = Point(-1, -2)"
      ],
      "execution_count": null,
      "outputs": []
    },
    {
      "cell_type": "code",
      "metadata": {
        "id": "nuPBuQQyPSpI"
      },
      "source": [
        "# p1とp2の属性x, yの参照\n",
        "print(p1.x, p1.y)\n",
        "print(p2.x, p2.y)"
      ],
      "execution_count": null,
      "outputs": []
    },
    {
      "cell_type": "code",
      "metadata": {
        "id": "P1RcK4uhPSpI"
      },
      "source": [
        "# p1とp2のdraw関数を呼び出し、2つの点を描画する\n",
        "p1.draw()\n",
        "p2.draw()\n",
        "plt.xlim(-4, 4)\n",
        "plt.ylim(-4, 4)\n",
        "plt.show()"
      ],
      "execution_count": null,
      "outputs": []
    },
    {
      "cell_type": "code",
      "metadata": {
        "id": "EuESwqVcPSpI"
      },
      "source": [
        "# Pointの子クラスCircleの定義その1\n",
        "class Circle1(Point):\n",
        "    # Circleはインスタンス生成時に引数x,y,rを持つ\n",
        "    def __init__(self, x, y, r):\n",
        "        # xとyは、親クラスの属性として設定\n",
        "        super().__init__(x, y)\n",
        "        # rは、Circleの属性として設定\n",
        "        self.r = r\n",
        "     \n",
        "    # この段階でdraw関数は定義しない"
      ],
      "execution_count": null,
      "outputs": []
    },
    {
      "cell_type": "code",
      "metadata": {
        "id": "eIDjNrTaPSpI"
      },
      "source": [
        "# クラスCircleからインスタンス変数c1_1を生成する\n",
        "c1_1 = Circle1(1, 0, 2)"
      ],
      "execution_count": null,
      "outputs": []
    },
    {
      "cell_type": "code",
      "metadata": {
        "id": "BEHIwmDzPSpI"
      },
      "source": [
        "# c1_1の属性の確認\n",
        "print(c1_1.x, c1_1.y, c1_1.r)"
      ],
      "execution_count": null,
      "outputs": []
    },
    {
      "cell_type": "code",
      "metadata": {
        "id": "BLkCbcCiPSpI"
      },
      "source": [
        "# p1, p2, c1_1 のそれぞれのdraw関数を呼び出す\n",
        "ax = plt.subplot()\n",
        "p1.draw()\n",
        "p2.draw()\n",
        "c1_1.draw()\n",
        "plt.xlim(-4, 4)\n",
        "plt.ylim(-4, 4)\n",
        "plt.show()"
      ],
      "execution_count": null,
      "outputs": []
    },
    {
      "cell_type": "markdown",
      "metadata": {
        "id": "obg1_EqDPSpJ"
      },
      "source": [
        "この段階でdraw関数は親で定義した関数が呼ばれていることがわかる"
      ]
    },
    {
      "cell_type": "code",
      "metadata": {
        "id": "5qXE1-RCPSpJ"
      },
      "source": [
        "# Pointの子クラスCircleの定義その2\n",
        "class Circle2(Point):\n",
        "    # Circleはインスタンス生成時に引数x,y,rを持つ\n",
        "    def __init__(self, x, y, r):\n",
        "        # xとyは、親クラスの属性として設定\n",
        "        super().__init__(x, y)\n",
        "        # rは、Circleの属性として設定\n",
        "        self.r = r\n",
        "     \n",
        "    # draw関数は、子クラス独自に円の描画を行う\n",
        "    def draw(self):\n",
        "        # 円の描画\n",
        "        c = patches.Circle(xy=(self.x, self.y), radius=self.r, fc='b', ec='k')\n",
        "        ax.add_patch(c)"
      ],
      "execution_count": null,
      "outputs": []
    },
    {
      "cell_type": "code",
      "metadata": {
        "id": "8-XPnRryPSpJ"
      },
      "source": [
        "# クラスCircle2からインスタンス変数c2_1を生成する\n",
        "c2_1 = Circle2(1, 0, 2)"
      ],
      "execution_count": null,
      "outputs": []
    },
    {
      "cell_type": "code",
      "metadata": {
        "id": "DKmZfGcMPSpJ"
      },
      "source": [
        "# p1, p2, c2_1 のそれぞれのdraw関数を呼び出す\n",
        "ax = plt.subplot()\n",
        "p1.draw()\n",
        "p2.draw()\n",
        "c2_1.draw()\n",
        "plt.xlim(-4, 4)\n",
        "plt.ylim(-4, 4)\n",
        "plt.show()"
      ],
      "execution_count": null,
      "outputs": []
    },
    {
      "cell_type": "markdown",
      "metadata": {
        "id": "4i0C8PMqPSpJ"
      },
      "source": [
        "親のdarw関数の代わりに子のdraw関数が呼ばれたことがわかる  \n",
        "では、この関数と親の関数を両方呼びたいときはどうしたらいいか"
      ]
    },
    {
      "cell_type": "code",
      "metadata": {
        "id": "6IEbSPH8PSpJ"
      },
      "source": [
        "# Pointの子クラスCircleの定義その3\n",
        "class Circle3(Point):\n",
        "    # Circleはインスタンス生成時に引数x,y,rを持つ\n",
        "    def __init__(self, x, y, r):\n",
        "        # xとyは、親クラスの属性として設定\n",
        "        super().__init__(x, y)\n",
        "        # rは、Circleの属性として設定\n",
        "        self.r = r\n",
        "     \n",
        "    # Circleのdraw関数は、親の関数呼び出しの後で、円の描画も独自に行う\n",
        "    def draw(self):\n",
        "        # 親クラスのdraw関数呼び出し\n",
        "        super().draw()\n",
        "        \n",
        "        # 円の描画\n",
        "        c = patches.Circle(xy=(self.x, self.y), radius=self.r, fc='b', ec='k')\n",
        "        ax.add_patch(c)"
      ],
      "execution_count": null,
      "outputs": []
    },
    {
      "cell_type": "code",
      "metadata": {
        "id": "rmFwn3pCPSpJ"
      },
      "source": [
        "# クラスCircle3からインスタンス変数c3_1を生成する\n",
        "c3_1 = Circle3(1, 0, 2)"
      ],
      "execution_count": null,
      "outputs": []
    },
    {
      "cell_type": "code",
      "metadata": {
        "id": "AzhTYVYYPSpJ"
      },
      "source": [
        "# p1, p2, c3_1 のそれぞれのdraw関数を呼び出す\n",
        "ax = plt.subplot()\n",
        "p1.draw()\n",
        "p2.draw()\n",
        "c3_1.draw()\n",
        "plt.xlim(-4, 4)\n",
        "plt.ylim(-4, 4)\n",
        "plt.show()"
      ],
      "execution_count": null,
      "outputs": []
    },
    {
      "cell_type": "markdown",
      "metadata": {
        "id": "f9iMASK1PSpJ"
      },
      "source": [
        "無事、両方を呼び出すことができた"
      ]
    },
    {
      "cell_type": "markdown",
      "metadata": {
        "id": "eTmbHTnQPSpK"
      },
      "source": [
        "## 1.6 インスタンスを関数として呼び出し可能にする"
      ]
    },
    {
      "cell_type": "code",
      "metadata": {
        "id": "rx8DIFfzPSpK"
      },
      "source": [
        "# 関数クラスHの定義\n",
        "class H:\n",
        "    def __call__(self, x):\n",
        "        return 2*x**2 + 2"
      ],
      "execution_count": null,
      "outputs": []
    },
    {
      "cell_type": "code",
      "metadata": {
        "id": "PmLLY2RwPSpK"
      },
      "source": [
        "# hが関数として動作することを確認する\n",
        "\n",
        "# numpy配列としてxの定義\n",
        "x = np.arange(-2, 2.1, 0.25)\n",
        "print(x)\n",
        "\n",
        "# Hクラスのインスタンスとしてhを生成\n",
        "h = H() \n",
        "\n",
        "# 関数hの呼び出し\n",
        "y = h(x)\n",
        "print(y)"
      ],
      "execution_count": null,
      "outputs": []
    },
    {
      "cell_type": "code",
      "metadata": {
        "id": "aLJPaaFmPSpK"
      },
      "source": [
        "# グラフ描画\n",
        "plt.plot(x, y)\n",
        "plt.show()"
      ],
      "execution_count": null,
      "outputs": []
    },
    {
      "cell_type": "code",
      "metadata": {
        "id": "eRZh0Nv-PSpK"
      },
      "source": [
        ""
      ],
      "execution_count": null,
      "outputs": []
    }
  ]
}